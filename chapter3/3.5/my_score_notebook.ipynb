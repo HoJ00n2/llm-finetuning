{
 "cells": [
  {
   "cell_type": "code",
   "execution_count": null,
   "metadata": {
    "vscode": {
     "languageId": "plaintext"
    }
   },
   "outputs": [],
   "source": [
    "import json\n",
    "from glob import glob\n",
    "\n",
    "path = \"./qa_evaluation_results\"\n",
    "# path에 있는 데이터 구조 보기 [\"choices\"] 이런 역할들과 구분 어떻게 되어있는건지?\n",
    "\n",
    "path_list = glob(f\"{path}/*\")\n",
    "\n",
    "calculated_average_list = []\n",
    "model_average_score = []\n",
    "for path in path_list:\n",
    "    with open(path, \"r\") as file:\n",
    "        data = json.load(file)\n",
    "\n",
    "    data = data[\"choices\"][0][\"message\"][\"parsed\"]\n",
    "    scores = [item['score'] for item in data.values() if isinstance(item, dict)]\n",
    "    calculated_average = sum(scores) / len(scores)\n",
    "    calculated_average_list.append(calculated_average)\n",
    "    model_average_score.append(data[\"average_score\"])\n",
    "\n",
    "mean_calculated_average = sum(calculated_average_list) / len(calculated_average_list)\n",
    "mean_model_average_score = sum(model_average_score) / len(model_average_score)\n",
    "mean_calculated_average, mean_model_average_score"
   ]
  }
 ],
 "metadata": {
  "language_info": {
   "name": "python"
  }
 },
 "nbformat": 4,
 "nbformat_minor": 2
}
